{
 "cells": [
  {
   "cell_type": "code",
   "execution_count": 3,
   "metadata": {},
   "outputs": [],
   "source": [
    "import sys \n",
    "import math\n",
    "import numpy as np\n",
    "import pandas as pd\n",
    "import statsmodels as sm\n",
    "import sklearn\n",
    "import scipy as sp\n",
    "%matplotlib inline \n",
    "# This is to enable plotting in Jupyter directly.\n",
    "import matplotlib.pyplot as plt"
   ]
  },
  {
   "cell_type": "markdown",
   "metadata": {},
   "source": [
    "## Problem 1\n",
    "\n",
    "The income tax rate of Hong Kong is summarized as follows.\n",
    "\n",
    "- For the annual income between 0 and 50,000 HKD, the tax rate is 0.\n",
    "- For the annual income between 50,001 HKD and 100,000 HKD, the tax rate is 6%.\n",
    "- For the annual income between 100,001 HKD and 150,000 HKD, the tax rate is 10%.\n",
    "- For the annual income between 150,001 HKD and 200,000 HKD, the tax rate is 14%.\n",
    "- For the annual income higher than 200,000 HKD, the tax rate is 17%.\n",
    "\n",
    "Given the annual pre-tax income $x$, compute the tax. In particular, if Adam's annual income is 500,000 HKD. How much tax does he need to pay?"
   ]
  },
  {
   "cell_type": "code",
   "execution_count": 1,
   "metadata": {},
   "outputs": [
    {
     "name": "stdout",
     "output_type": "stream",
     "text": [
      "All tests passed.\n"
     ]
    }
   ],
   "source": [
    "def calculate_tax(income):\n",
    "    \"\"\"\n",
    "    Calculate the income tax based on the Hong Kong tax system.\n",
    "    \n",
    "    Args:\n",
    "    income (float): The annual pre-tax income in HKD\n",
    "\n",
    "    Returns:\n",
    "    float: The calculated tax in HKD\n",
    "    \"\"\"\n",
    "    if income <= 50000:\n",
    "        return 0\n",
    "    elif income <= 100000:\n",
    "        return (income - 50000) * 0.06\n",
    "    elif income <= 150000:\n",
    "        return 3000 + (income - 100000) * 0.10\n",
    "    elif income <= 200000:\n",
    "        return 8000 + (income - 150000) * 0.14\n",
    "    else:\n",
    "        return 15000 + (income - 200000) * 0.17\n",
    "\n",
    "# Unit tests\n",
    "def test_calculate_tax():\n",
    "    # Test cases\n",
    "    test_cases = [\n",
    "        (0, 0),          # Income in the 0% tax bracket\n",
    "        (50000, 0),      # Income at the upper bound of the 0% tax bracket\n",
    "        (75000, 1500),   # Income in the 6% tax bracket\n",
    "        (100000, 3000),  # Income at the upper bound of the 6% tax bracket\n",
    "        (125000, 5500),  # Income in the 10% tax bracket\n",
    "        (150000, 8000),  # Income at the upper bound of the 10% tax bracket\n",
    "        (175000, 11500), # Income in the 14% tax bracket\n",
    "        (200000, 15000), # Income at the upper bound of the 14% tax bracket\n",
    "        (250000, 23500)  # Income in the 17% tax bracket\n",
    "    ]\n",
    "\n",
    "    for income, expected_tax in test_cases:\n",
    "        assert calculate_tax(income) == expected_tax, f\"Failed on income: {income}\"\n",
    "\n",
    "    print(\"All tests passed.\")\n",
    "\n",
    "# Running the unit tests\n",
    "test_calculate_tax()"
   ]
  },
  {
   "cell_type": "code",
   "execution_count": 2,
   "metadata": {},
   "outputs": [
    {
     "data": {
      "text/plain": [
       "66000.0"
      ]
     },
     "execution_count": 2,
     "metadata": {},
     "output_type": "execute_result"
    }
   ],
   "source": [
    "## Compute the tax if the annual income is 500,000 HKD.\n",
    "income = 500000\n",
    "\n",
    "calculate_tax(income)"
   ]
  },
  {
   "cell_type": "markdown",
   "metadata": {},
   "source": [
    "## Problem 2\n",
    "\n",
    "Given a non-negative number $x$, compute $\\sqrt{x}$. Use your function to compute $\\sqrt{20}$."
   ]
  },
  {
   "cell_type": "code",
   "execution_count": 5,
   "metadata": {},
   "outputs": [
    {
     "name": "stdout",
     "output_type": "stream",
     "text": [
      "All tests passed.\n"
     ]
    }
   ],
   "source": [
    "def sqrt_bisection(x, tolerance=1e-10):\n",
    "    if x < 0:\n",
    "        raise ValueError(\"Cannot compute the square root of a negative number.\")\n",
    "    if x in [0, 1]:\n",
    "        return x\n",
    "\n",
    "    low, high = (0, x) if x > 1 else (x, 1)\n",
    "\n",
    "    while high - low > tolerance:\n",
    "        mid = (low + high) / 2\n",
    "        if mid**2 < x:\n",
    "            low = mid\n",
    "        else:\n",
    "            high = mid\n",
    "\n",
    "    return (low + high) / 2\n",
    "\n",
    "# Unit tests\n",
    "def test_sqrt_bisection():\n",
    "    # Test cases\n",
    "    test_cases = [\n",
    "        (0, 0),         # Square root of 0\n",
    "        (1, 1),         # Square root of 1\n",
    "        (4, 2),         # Square root of a perfect square\n",
    "        (9, 3),         # Another perfect square\n",
    "        (16, 4),        # And another\n",
    "        (2, 2 ** 0.5),  # Square root of a non-perfect square\n",
    "        (3, 3 ** 0.5),  # Another non-perfect square\n",
    "    ]\n",
    "\n",
    "    for number, expected_sqrt in test_cases:\n",
    "        assert abs(sqrt_bisection(number) - expected_sqrt) < 1e-10, f\"Failed on number: {number}\"\n",
    "\n",
    "    print(\"All tests passed.\")\n",
    "\n",
    "# Running the unit tests\n",
    "test_sqrt_bisection()"
   ]
  },
  {
   "cell_type": "code",
   "execution_count": 6,
   "metadata": {},
   "outputs": [
    {
     "data": {
      "text/plain": [
       "4.472135954965779"
      ]
     },
     "execution_count": 6,
     "metadata": {},
     "output_type": "execute_result"
    }
   ],
   "source": [
    "## Compute the square root of 20.\n",
    "\n",
    "sqrt_bisection(20, tolerance=1e-10)"
   ]
  },
  {
   "cell_type": "markdown",
   "metadata": {},
   "source": [
    "## Problem 3\n",
    "\n",
    "Given two positive integers $(m,n)$, compute the greatest common divisor. Compute the greatest common divisor of $(1234,5678)$. You may use the [Euclidean Algorithm](https://en.wikipedia.org/wiki/Euclidean_algorithm)."
   ]
  },
  {
   "cell_type": "code",
   "execution_count": 9,
   "metadata": {},
   "outputs": [
    {
     "name": "stdout",
     "output_type": "stream",
     "text": [
      "All tests passed.\n"
     ]
    }
   ],
   "source": [
    "def gcd(m, n):\n",
    "    \"\"\"\n",
    "    Compute the greatest common divisor of two positive integers using the Euclidean algorithm.\n",
    "\n",
    "    Args:\n",
    "    m (int): A positive integer\n",
    "    n (int): Another positive integer\n",
    "\n",
    "    Returns:\n",
    "    int: The greatest common divisor of m and n\n",
    "    \"\"\"\n",
    "    while n != 0:\n",
    "        m, n = n, m % n\n",
    "    return m\n",
    "\n",
    "\n",
    "# Unit tests\n",
    "def test_gcd():\n",
    "    # Test cases\n",
    "    test_cases = [\n",
    "        (1, 1, 1),          # GCD of the same numbers\n",
    "        (8, 12, 4),         # Common divisor\n",
    "        (17, 13, 1),        # Prime numbers\n",
    "        (18, 6, 6),         # One number is multiple of the other\n",
    "        (28, 7, 7),         # Another case of multiple\n",
    "    ]\n",
    "\n",
    "    for m, n, expected_gcd in test_cases:\n",
    "        assert gcd(m, n) == expected_gcd, f\"Failed on gcd({m}, {n})\"\n",
    "\n",
    "    print(\"All tests passed.\")\n",
    "\n",
    "# Running the unit tests\n",
    "test_gcd()"
   ]
  },
  {
   "cell_type": "code",
   "execution_count": 10,
   "metadata": {},
   "outputs": [
    {
     "data": {
      "text/plain": [
       "2"
      ]
     },
     "execution_count": 10,
     "metadata": {},
     "output_type": "execute_result"
    }
   ],
   "source": [
    "## Compute the greatest common divisor of  (1234,5678).\n",
    "\n",
    "m = 1234\n",
    "n = 5678\n",
    "\n",
    "gcd(m, n)"
   ]
  },
  {
   "cell_type": "code",
   "execution_count": null,
   "metadata": {},
   "outputs": [],
   "source": []
  }
 ],
 "metadata": {
  "kernelspec": {
   "display_name": "Python 3 (ipykernel)",
   "language": "python",
   "name": "python3"
  },
  "language_info": {
   "codemirror_mode": {
    "name": "ipython",
    "version": 3
   },
   "file_extension": ".py",
   "mimetype": "text/x-python",
   "name": "python",
   "nbconvert_exporter": "python",
   "pygments_lexer": "ipython3",
   "version": "3.11.5"
  }
 },
 "nbformat": 4,
 "nbformat_minor": 2
}
